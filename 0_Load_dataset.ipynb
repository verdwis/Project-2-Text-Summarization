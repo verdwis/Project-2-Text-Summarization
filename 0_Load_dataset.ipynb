{
 "cells": [
  {
   "cell_type": "markdown",
   "metadata": {},
   "source": [
    "## Import everything needed"
   ]
  },
  {
   "cell_type": "code",
   "execution_count": 22,
   "metadata": {},
   "outputs": [],
   "source": [
    "import json\n",
    "import os\n",
    "import csv\n",
    "import pandas as pd"
   ]
  },
  {
   "cell_type": "code",
   "execution_count": 23,
   "metadata": {},
   "outputs": [],
   "source": [
    "def convert_json_to_csv(folder_path, csv_file_path, json_fieldnames):\n",
    "    json_data = []\n",
    "\n",
    "    # Membaca data JSON dari file\n",
    "    for filename in os.listdir(folder_path):\n",
    "        if filename.endswith('.json'):\n",
    "            file_path = os.path.join(folder_path, filename)\n",
    "            with open(file_path, 'r') as file:\n",
    "                data = json.load(file)\n",
    "                json_data.append(data)\n",
    "\n",
    "    # Menulis data ke file CSV\n",
    "    with open(csv_file_path, 'w', newline='') as csvfile:\n",
    "        writer = csv.DictWriter(csvfile, fieldnames=json_fieldnames)\n",
    "\n",
    "        # Menulis header ke file CSV\n",
    "        writer.writeheader()\n",
    "\n",
    "        # Menulis data JSON ke file CSV\n",
    "        for data in json_data:\n",
    "            writer.writerow(data)"
   ]
  },
  {
   "cell_type": "markdown",
   "metadata": {},
   "source": [
    "# cannonical"
   ]
  },
  {
   "cell_type": "code",
   "execution_count": 26,
   "metadata": {},
   "outputs": [],
   "source": [
    "#Train\n",
    "\n",
    "folder_path = 'dataset/liputan6_data/canonical/train'\n",
    "csv_file_path = 'dataset/canonical_train.csv'\n",
    "json_fieldnames = ['id', 'url', 'clean_article','clean_summary','extractive_summary']  \n",
    "\n",
    "convert_json_to_csv(folder_path, csv_file_path, json_fieldnames)"
   ]
  },
  {
   "cell_type": "code",
   "execution_count": 29,
   "metadata": {},
   "outputs": [],
   "source": [
    "#Test\n",
    "\n",
    "folder_path = 'dataset/liputan6_data/canonical/test'\n",
    "csv_file_path = 'dataset/canonical_test.csv'\n",
    "json_fieldnames = ['id', 'url', 'clean_article','clean_summary','extractive_summary']  \n",
    "\n",
    "convert_json_to_csv(folder_path, csv_file_path, json_fieldnames)"
   ]
  },
  {
   "cell_type": "code",
   "execution_count": 30,
   "metadata": {},
   "outputs": [],
   "source": [
    "#Test\n",
    "\n",
    "folder_path = 'dataset/liputan6_data/canonical/dev'\n",
    "csv_file_path = 'dataset/canonical_dev.csv'\n",
    "json_fieldnames = ['id', 'url', 'clean_article','clean_summary','extractive_summary']  \n",
    "\n",
    "convert_json_to_csv(folder_path, csv_file_path, json_fieldnames)"
   ]
  },
  {
   "cell_type": "markdown",
   "metadata": {},
   "source": [
    "# Xtreme"
   ]
  },
  {
   "cell_type": "code",
   "execution_count": 31,
   "metadata": {},
   "outputs": [],
   "source": [
    "#Test\n",
    "\n",
    "folder_path = 'dataset/liputan6_data/xtreme/test'\n",
    "csv_file_path = 'dataset/Xtreme_test.csv'\n",
    "json_fieldnames = ['id', 'url', 'clean_article','clean_summary','extractive_summary']  \n",
    "\n",
    "convert_json_to_csv(folder_path, csv_file_path, json_fieldnames)"
   ]
  },
  {
   "cell_type": "code",
   "execution_count": 32,
   "metadata": {},
   "outputs": [],
   "source": [
    "#Dev\n",
    "\n",
    "folder_path = 'dataset/liputan6_data/xtreme/dev'\n",
    "csv_file_path = 'dataset/Xtreme_dev.csv'\n",
    "json_fieldnames = ['id', 'url', 'clean_article','clean_summary','extractive_summary']  \n",
    "\n",
    "convert_json_to_csv(folder_path, csv_file_path, json_fieldnames)"
   ]
  }
 ],
 "metadata": {
  "kernelspec": {
   "display_name": "base",
   "language": "python",
   "name": "python3"
  },
  "language_info": {
   "codemirror_mode": {
    "name": "ipython",
    "version": 3
   },
   "file_extension": ".py",
   "mimetype": "text/x-python",
   "name": "python",
   "nbconvert_exporter": "python",
   "pygments_lexer": "ipython3",
   "version": "3.9.12"
  },
  "orig_nbformat": 4
 },
 "nbformat": 4,
 "nbformat_minor": 2
}
